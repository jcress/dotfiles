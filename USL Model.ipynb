{
 "metadata": {
  "name": "",
  "signature": "sha256:35b4dd3d184192c24a766e265bd9ba1deb8ab232e5d6b79cfb63d3c760518749"
 },
 "nbformat": 3,
 "nbformat_minor": 0,
 "worksheets": [
  {
   "cells": [
    {
     "cell_type": "code",
     "collapsed": false,
     "input": [
      "from IPython.display import display, Latex"
     ],
     "language": "python",
     "metadata": {},
     "outputs": [],
     "prompt_number": 9
    },
    {
     "cell_type": "heading",
     "level": 1,
     "metadata": {},
     "source": [
      "Notation"
     ]
    },
    {
     "cell_type": "markdown",
     "metadata": {},
     "source": [
      "Denote all outcome variables as $Y$ with superscripts identifying the particular outcome of interest; $Y^s$ for spend, $Y^v$ for visits, et cetera.\n",
      "\n",
      "Subscripts denote levels of aggregation (u for usl, a for acct, i for indiv, h for hh); e.g. $Y^s_a$ is acct spend, $Y^s_i$ is indiv.\n",
      "\n",
      "For clarity, define aggregations between acct/indiv/hh as\n",
      "\n",
      "$$Y^s_i = \\sum_{a = 1}^{A_i} Y^s_a$$\n",
      "\n",
      "$$Y^s_h = \\sum_{i = 1}^{I_h} Y^s_i = \\sum_{a = 1}^{A_h} Y^s_a$$\n",
      "\n",
      "Where $A_i$ is the number of accounts in an indiv, $I_h$ is indivs in a hh, et cetera.\n",
      "\n",
      "Note: Not dealing with aggregations between USL id and others as there are too many unknowns surrounding these relationships.\n",
      "\n",
      "Also, let unadorned capital letters represent global quantities; $A$ is total accts, $I$ is indivs, $H$ is households.\n",
      "\n",
      "Then, $$Y = \\sum_{a=1}^A Y_a = \\sum_{i=1}^I Y_i = \\sum_{h=1}^H Y_h$$\n",
      "\n",
      "$T$ represents a treatment indicator, $T = 1$ for enrolled, $T = 0$ for non-enrolled. $T^E, T^N$ are shorthand for enrolled and not enrolled respectively.  These can be combined with subscripts to denote an enrolled or non enrolled acct, indiv or hh, even though enrollment is only defined at the indiv level; $T^E_a$ for an account associated to an enrolled indiv, $T^E_i$ for an enrolled indiv or $T^E_h$ for a household with at least one enrolled indiv.\n",
      "\n",
      "Following chapter 26 of Cameron and Trivedi, covariates denoted $X$ are those which may be measured with error, $X^*$ for their observed values. While variables $W$ are covariates measured without error.\n",
      "\n",
      "Where necessary, $Z$ identifies instrumental variables correlated to $X$ but uncorrelated with an outcome $Y$.\n",
      "\n",
      "Greek letters are used in their standard way. So, an indiv level regression of spend against perfectly observed data may be written\n",
      "$$Y^s_i = \\alpha + X_i\\beta + W_i\\gamma + \\epsilon_i$$ \n",
      "\n",
      "but if $X_i$ cannot be observed, but instead $X_i^*$ where $X_i = X^*_i + v_i$"
     ]
    },
    {
     "cell_type": "code",
     "collapsed": false,
     "input": [],
     "language": "python",
     "metadata": {},
     "outputs": []
    }
   ],
   "metadata": {}
  }
 ]
}